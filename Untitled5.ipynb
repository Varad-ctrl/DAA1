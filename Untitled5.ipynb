{
  "nbformat": 4,
  "nbformat_minor": 0,
  "metadata": {
    "colab": {
      "provenance": [],
      "authorship_tag": "ABX9TyOFCN2afUtGTEvY+W3ePxlM",
      "include_colab_link": true
    },
    "kernelspec": {
      "name": "python3",
      "display_name": "Python 3"
    },
    "language_info": {
      "name": "python"
    }
  },
  "cells": [
    {
      "cell_type": "markdown",
      "metadata": {
        "id": "view-in-github",
        "colab_type": "text"
      },
      "source": [
        "<a href=\"https://colab.research.google.com/github/Varad-ctrl/DAA1/blob/main/Untitled5.ipynb\" target=\"_parent\"><img src=\"https://colab.research.google.com/assets/colab-badge.svg\" alt=\"Open In Colab\"/></a>"
      ]
    },
    {
      "cell_type": "code",
      "execution_count": 1,
      "metadata": {
        "colab": {
          "base_uri": "https://localhost:8080/"
        },
        "id": "MTzTTZ9AItHb",
        "outputId": "0c13b514-8dbd-43b1-c64f-8568acc13173"
      },
      "outputs": [
        {
          "output_type": "stream",
          "name": "stdout",
          "text": [
            "Huffman Codes:\n",
            "'h': 0000\n",
            "'c': 0001\n",
            "'e': 001\n",
            "'n': 010\n",
            "'g': 0110\n",
            "'i': 0111\n",
            "'m': 100\n",
            "'f': 1010\n",
            "' ': 1011\n",
            "'a': 1100\n",
            "'p': 11010\n",
            "'x': 11011\n",
            "'d': 11100\n",
            "'u': 11101\n",
            "'o': 11110\n",
            "'l': 11111\n",
            "\n",
            "Encoded Text:\n",
            "0000111011010101010011000101011000111110111000111010011010110011101111001001101011111001\n"
          ]
        }
      ],
      "source": [
        "from collections import Counter, defaultdict\n",
        "import heapq\n",
        "\n",
        "# Node class for Huffman Tree\n",
        "class Node:\n",
        "    def __init__(self, char=None, freq=0):\n",
        "        self.char = char\n",
        "        self.freq = freq\n",
        "        self.left = None\n",
        "        self.right = None\n",
        "\n",
        "    # comparison method for heapq\n",
        "    def __lt__(self, other):\n",
        "        return self.freq < other.freq\n",
        "\n",
        "# Function to build Huffman Tree\n",
        "def build_huffman_tree(text):\n",
        "    freq = Counter(text)\n",
        "    heap = [Node(ch, f) for ch, f in freq.items()]\n",
        "    heapq.heapify(heap)\n",
        "\n",
        "    while len(heap) > 1:\n",
        "        left = heapq.heappop(heap)\n",
        "        right = heapq.heappop(heap)\n",
        "        merged = Node(freq=left.freq + right.freq)\n",
        "        merged.left = left\n",
        "        merged.right = right\n",
        "        heapq.heappush(heap, merged)\n",
        "\n",
        "    return heap[0]\n",
        "\n",
        "# Generate codes using tree\n",
        "def generate_codes(node, prefix=\"\", code_map={}):\n",
        "    if node:\n",
        "        if node.char:\n",
        "            code_map[node.char] = prefix\n",
        "        generate_codes(node.left, prefix + \"0\", code_map)\n",
        "        generate_codes(node.right, prefix + \"1\", code_map)\n",
        "    return code_map\n",
        "\n",
        "# Encode the text using Huffman codes\n",
        "def huffman_encode(text):\n",
        "    root = build_huffman_tree(text)\n",
        "    codes = generate_codes(root)\n",
        "    encoded_text = ''.join(codes[ch] for ch in text)\n",
        "    return codes, encoded_text\n",
        "\n",
        "# Example usage\n",
        "text = \"huffman coding example\"\n",
        "codes, encoded = huffman_encode(text)\n",
        "\n",
        "print(\"Huffman Codes:\")\n",
        "for ch in codes:\n",
        "    print(f\"'{ch}': {codes[ch]}\")\n",
        "print(\"\\nEncoded Text:\")\n",
        "print(encoded)\n"
      ]
    }
  ]
}